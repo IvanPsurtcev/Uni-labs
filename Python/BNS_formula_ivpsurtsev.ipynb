{
 "cells": [
  {
   "cell_type": "markdown",
   "id": "a75df07a",
   "metadata": {},
   "source": [
    "Before you turn this problem in, make sure everything runs as expected. First, **restart the kernel** (in the menubar, select Kernel$\\rightarrow$Restart) and then **run all cells** (in the menubar, select Cell$\\rightarrow$Run All).\n",
    "\n",
    "Make sure you fill in any place that says `YOUR CODE HERE` or \"YOUR ANSWER HERE\", as well as your name and collaborators below:"
   ]
  },
  {
   "cell_type": "code",
   "execution_count": 1,
   "id": "cd28d783",
   "metadata": {},
   "outputs": [],
   "source": [
    "NAME = \"\"\n",
    "COLLABORATORS = \"\""
   ]
  },
  {
   "cell_type": "markdown",
   "id": "91f411e2",
   "metadata": {},
   "source": [
    "---"
   ]
  },
  {
   "cell_type": "markdown",
   "id": "bc28afc4",
   "metadata": {
    "deletable": false,
    "editable": false,
    "nbgrader": {
     "cell_type": "markdown",
     "checksum": "a38678e51fd78faa11565d2fdde1fe5c",
     "grade": false,
     "grade_id": "cell-86773b6eb7417ca1",
     "locked": true,
     "schema_version": 3,
     "solution": false,
     "task": false
    }
   },
   "source": [
    "# Large-scale eigenvalue problem with structured matrices\n",
    "\n",
    "\n",
    "Consider a diagonal matrix $D$ of the size $n\\times n$ and a column vector $u$ of size $n$. Consider a matrix \n",
    "\n",
    "$$\n",
    "A = D +  \\frac{u\\, u^T}{u^T u}\n",
    "$$\n",
    "\n",
    "Drawing the elements of $D$ and $u$ from a standard normal distribution, find the smallest (by the absolute value) eigenvalue of $A$. You will need to consider values of up to $n=10^5$. Note that matrices of this size do not fit into memory, so you will need to write a matrix-free implementation which uses the special structure of $A$. You may want to consider using the Sherman-Morrison formula and the so-called [Bunch-Nielsen-Sorensen formula](https://en.wikipedia.org/wiki/Bunch%E2%80%93Nielsen%E2%80%93Sorensen_formula)."
   ]
  },
  {
   "cell_type": "code",
   "execution_count": 2,
   "id": "55573af4",
   "metadata": {
    "deletable": false,
    "editable": false,
    "nbgrader": {
     "cell_type": "code",
     "checksum": "f6bcbd5d1c3a850535ff6ea8549a4b17",
     "grade": false,
     "grade_id": "cell-e402cb2d47bdd932",
     "locked": true,
     "schema_version": 3,
     "solution": false,
     "task": false
    }
   },
   "outputs": [],
   "source": [
    "import numpy as np\n",
    "from numpy.testing import assert_allclose\n",
    "from numpy.linalg import eigvals, eig"
   ]
  },
  {
   "cell_type": "code",
   "execution_count": 3,
   "id": "a0dc1dae",
   "metadata": {
    "deletable": false,
    "editable": false,
    "nbgrader": {
     "cell_type": "code",
     "checksum": "228ffd441eca29113c9b3d137abaefe5",
     "grade": false,
     "grade_id": "cell-c6101b076d6cd559",
     "locked": true,
     "schema_version": 3,
     "solution": false,
     "task": false
    }
   },
   "outputs": [],
   "source": [
    "from math import sqrt\n",
    "\n",
    "def generate_d_u(n, rndm):\n",
    "    \"\"\"Generate two vectors of size $n$ drawn from a standard normal distribution.\"\"\"\n",
    "    d = rndm.standard_normal(size=n)\n",
    "    u = rndm.standard_normal(size=n)\n",
    "    u /= sqrt(u @ u)\n",
    "    return d, u"
   ]
  },
  {
   "cell_type": "markdown",
   "id": "1dd5f3dd",
   "metadata": {
    "deletable": false,
    "editable": false,
    "nbgrader": {
     "cell_type": "markdown",
     "checksum": "9efa1a9f156ebcf348a911e6ad4fafc7",
     "grade": false,
     "grade_id": "cell-ded5e5598a1f0ba3",
     "locked": true,
     "schema_version": 3,
     "solution": false,
     "task": false
    }
   },
   "source": [
    "We start from a simple case of small $n$, and write out the matrices explicitly."
   ]
  },
  {
   "cell_type": "code",
   "execution_count": 4,
   "id": "31ef2af6",
   "metadata": {
    "deletable": false,
    "editable": false,
    "nbgrader": {
     "cell_type": "code",
     "checksum": "91dfbb2777515168ba15dd1aa897acd5",
     "grade": false,
     "grade_id": "cell-c1278343b66863e7",
     "locked": true,
     "schema_version": 3,
     "solution": false,
     "task": false
    }
   },
   "outputs": [
    {
     "data": {
      "text/plain": [
       "array([[-1.34292291,  0.14935839, -0.07085692, -0.03942634,  0.21324611],\n",
       "       [ 0.14935839,  1.53946816, -0.13081332, -0.07278739,  0.39368675],\n",
       "       [-0.07085692, -0.13081332, -0.80860276,  0.03453097, -0.18676843],\n",
       "       [-0.03942634, -0.07278739,  0.03453097, -0.23995945, -0.10392203],\n",
       "       [ 0.21324611,  0.39368675, -0.18676843, -0.10392203,  0.4867421 ]])"
      ]
     },
     "execution_count": 4,
     "metadata": {},
     "output_type": "execute_result"
    }
   ],
   "source": [
    "rndm = np.random.default_rng(12345)\n",
    "d, u = generate_d_u(5, rndm)\n",
    "\n",
    "A = np.diag(d) + u[:, None] @ u[None, :]\n",
    "A"
   ]
  },
  {
   "cell_type": "markdown",
   "id": "133fff58",
   "metadata": {
    "deletable": false,
    "editable": false,
    "nbgrader": {
     "cell_type": "markdown",
     "checksum": "f4ab9c3bff9dccfab8f5f96dcead1c10",
     "grade": false,
     "grade_id": "cell-57ea026cea457e60",
     "locked": true,
     "schema_version": 3,
     "solution": false,
     "task": false
    }
   },
   "source": [
    "## Find the min eigenvalue of $A$\n",
    "\n",
    "Min eigenvalue of $A$ is the max eigenvalue of $A^{-1}$. Use the power iteration with $A^{-1}$ as the iteration matrix.\n",
    "\n",
    "Demo version: use full matrices for clarity. Also we only do a fixed number of iterations instead of a proper convergence check."
   ]
  },
  {
   "cell_type": "code",
   "execution_count": 5,
   "id": "13be23d4",
   "metadata": {
    "deletable": false,
    "nbgrader": {
     "cell_type": "code",
     "checksum": "1aa776842f9144a591f6ca7d9d54d5fd",
     "grade": false,
     "grade_id": "cell-d833d5a69f14bd61",
     "locked": false,
     "schema_version": 3,
     "solution": true,
     "task": false
    }
   },
   "outputs": [],
   "source": [
    "def power_iter(A, x0, niter=20):\n",
    "    \"\"\"Compute min eigenvalue and corresponding eigenvector of matrix A.\n",
    "    \n",
    "    Use the power iteration.\n",
    "    \n",
    "    Parameters\n",
    "    ----------\n",
    "    A : ndarray of floats, shape (n, n)\n",
    "        original matrix\n",
    "    x0 : ndarray of floats, shape (n,)\n",
    "        The starting vector for the iteration\n",
    "    niter : int, optional\n",
    "        the number of iterations (default is 20)\n",
    "    \n",
    "    Returns\n",
    "    -------\n",
    "    la : float\n",
    "        min eigenvalue\n",
    "    x : ndarray of floats, shape (n,)\n",
    "        the iteration vector on the last iteration\n",
    "    \"\"\"\n",
    "    xk = x0\n",
    "    ykk = x0\n",
    "    lam = 0\n",
    "    a_inv = np.linalg.inv(A)\n",
    "    for i in range(niter):\n",
    "        ykk = a_inv @ xk\n",
    "        lam = xk @ ykk\n",
    "        xk = ykk / np.linalg.norm(ykk)\n",
    "    x = xk\n",
    "    la = 1/lam\n",
    "    return la, x"
   ]
  },
  {
   "cell_type": "code",
   "execution_count": 6,
   "id": "0cb7cf06",
   "metadata": {
    "deletable": false,
    "editable": false,
    "nbgrader": {
     "cell_type": "code",
     "checksum": "ae0413a89b61ec47a56cdcfa20b7dadc",
     "grade": false,
     "grade_id": "cell-9203387327f9ee06",
     "locked": true,
     "schema_version": 3,
     "solution": false,
     "task": false
    }
   },
   "outputs": [
    {
     "data": {
      "text/plain": [
       "6.965336906136754e-14"
      ]
     },
     "execution_count": 6,
     "metadata": {},
     "output_type": "execute_result"
    }
   ],
   "source": [
    "d, u = generate_d_u(5, rndm=np.random.default_rng(1234))\n",
    "A = np.diag(d) + u[:, None] @ u[None, :]\n",
    "\n",
    "la, x = power_iter(A, x0=np.ones(5))\n",
    "\n",
    "# Check that the iteration vector approximates the eigenvector\n",
    "np.linalg.norm(la * x - A @ x)"
   ]
  },
  {
   "cell_type": "code",
   "execution_count": 7,
   "id": "bd04655a",
   "metadata": {
    "deletable": false,
    "editable": false,
    "nbgrader": {
     "cell_type": "code",
     "checksum": "cf21dbef9f103693a00efd80ca6326c8",
     "grade": true,
     "grade_id": "cell-8d3c475509476796",
     "locked": true,
     "points": 3,
     "schema_version": 3,
     "solution": false,
     "task": false
    }
   },
   "outputs": [],
   "source": [
    "# this is a graded test\n",
    "\n",
    "d1, u1 = generate_d_u(6, rndm)\n",
    "A1 = np.diag(d1) + u1[:, None] @ u1[None, :]\n",
    "\n",
    "la1, x1 = power_iter(A1, x0=np.ones(6))\n",
    "\n",
    "err1 = np.linalg.norm(la1 * x1 - A1 @ x1)\n",
    "assert_allclose(err1, 0., atol=1e-4)\n"
   ]
  },
  {
   "cell_type": "markdown",
   "id": "7ad32a78",
   "metadata": {
    "deletable": false,
    "editable": false,
    "nbgrader": {
     "cell_type": "markdown",
     "checksum": "120a791a7043b52f7c0cf4045aa7c0b5",
     "grade": false,
     "grade_id": "cell-d5036789c5baa37c",
     "locked": true,
     "schema_version": 3,
     "solution": false,
     "task": false
    }
   },
   "source": [
    "## Check the BNS formula\n",
    "\n",
    "Implement the [Bunch-Nielsen-Sorensen formula](https://en.wikipedia.org/wiki/Bunch%E2%80%93Nielsen%E2%80%93Sorensen_formula) for the matrix of the above structure. "
   ]
  },
  {
   "cell_type": "code",
   "execution_count": 8,
   "id": "112955c8",
   "metadata": {
    "deletable": false,
    "nbgrader": {
     "cell_type": "code",
     "checksum": "88572ec10782d5fa9d23e9b4a6dea317",
     "grade": false,
     "grade_id": "cell-4ea65883045a7664",
     "locked": false,
     "schema_version": 3,
     "solution": true,
     "task": false
    }
   },
   "outputs": [],
   "source": [
    "def BNS(d, u, la):\n",
    "    \"\"\"Compute the eigenvector of $D + u u^T$ for a given eigenvalue.\n",
    "    \n",
    "    Given the matrix $A = D + u u^T$ where $D$ is a diagonal matrix and\n",
    "    $u$ is a 1D vector, and also a precomputed eigenvalue of $A$,\n",
    "    compute its corresponding eigenvector using the B-N-S formula.\n",
    "    \n",
    "    Parameters\n",
    "    ----------\n",
    "    d : ndarray, shape (n,)\n",
    "        Diagonal elements of the matrix $D$\n",
    "    u : ndarray, shape (n,)\n",
    "        1D array representing the vector $u$\n",
    "    la : float\n",
    "        An eigenvalue of $A = D + u u^T$\n",
    "        \n",
    "    Returns\n",
    "    -------\n",
    "    q : ndarray, shape (n,)\n",
    "        The normalized eigenvector of $A$, which corresponds\n",
    "        to the eigenvalue `la`.\n",
    "    \"\"\"\n",
    "    q = np.zeros(d.shape[0])\n",
    "    for i in range(d.shape[0]):\n",
    "        q[i] = u[i]/(d[i] - la)\n",
    "    q = q / np.linalg.norm(q)\n",
    "    return q"
   ]
  },
  {
   "cell_type": "code",
   "execution_count": 9,
   "id": "571e1482",
   "metadata": {
    "deletable": false,
    "editable": false,
    "nbgrader": {
     "cell_type": "code",
     "checksum": "7324f4f541a49b92c7523167a044145d",
     "grade": false,
     "grade_id": "cell-32253521a4532090",
     "locked": true,
     "schema_version": 3,
     "solution": false,
     "task": false
    }
   },
   "outputs": [
    {
     "name": "stdout",
     "output_type": "stream",
     "text": [
      "1.970586359267042e-06\n",
      "7.162325834083003e-10\n"
     ]
    }
   ],
   "source": [
    "# Note that the B-N-S vector $q$ looks to be a better approximation for the eigenvector.\n",
    "\n",
    "d, u = generate_d_u(6, rndm=np.random.default_rng(1234))\n",
    "A = np.diag(d) + u[:, None] @ u[None, :]\n",
    "la, x = power_iter(A, x0=np.ones(6), niter=30)\n",
    "\n",
    "q = BNS(d, u, la)\n",
    "\n",
    "print(np.linalg.norm(la * x - A @ x))\n",
    "print(np.linalg.norm(la * q - A @ q))"
   ]
  },
  {
   "cell_type": "code",
   "execution_count": 10,
   "id": "0c440ae6",
   "metadata": {
    "deletable": false,
    "editable": false,
    "nbgrader": {
     "cell_type": "code",
     "checksum": "6c3943d445bfa2afe81faa2c3d2062b3",
     "grade": true,
     "grade_id": "cell-75affba958c9af75",
     "locked": true,
     "points": 2,
     "schema_version": 3,
     "solution": false,
     "task": false
    }
   },
   "outputs": [],
   "source": [
    "q1 = BNS(d1, u1, la1)\n",
    "assert np.linalg.norm(la1 * q1 - A1 @ q1) < 1e-9\n"
   ]
  },
  {
   "cell_type": "markdown",
   "id": "55511f47",
   "metadata": {
    "deletable": false,
    "editable": false,
    "nbgrader": {
     "cell_type": "markdown",
     "checksum": "4ff082538ca05353b810ffe86653e8ea",
     "grade": false,
     "grade_id": "cell-c4205134044c466a",
     "locked": true,
     "schema_version": 3,
     "solution": false,
     "task": false
    }
   },
   "source": [
    "## Implement the the matrix-free version of the above prototype\n",
    "\n",
    "\n",
    "First, implement the function which computes the result of the matrix-vector product of the matrix \n",
    "\n",
    "$$\\left(D + \\dfrac{u\\, u^T}{u^T u} \\right)^{-1}$$\n",
    "\n",
    "and a given vector $x$. Your implementation must never construct the matrix explicitly. Use the [Sherman-Morrison formula](https://en.wikipedia.org/wiki/Sherman%E2%80%93Morrison_formula)."
   ]
  },
  {
   "cell_type": "code",
   "execution_count": 11,
   "id": "8a86a4fe",
   "metadata": {
    "deletable": false,
    "nbgrader": {
     "cell_type": "code",
     "checksum": "e957258bc3e0762e00511ac1bf3106eb",
     "grade": false,
     "grade_id": "cell-2bb178411dfcf57c",
     "locked": false,
     "schema_version": 3,
     "solution": true,
     "task": false
    }
   },
   "outputs": [],
   "source": [
    "def SMproduct(d, u, x):\n",
    "    \"\"\"Compute the matrix-vector product $(D + u u^T)^{-1} x$.\n",
    "    \n",
    "    Here $D$ is the diagonal matrix with `d` on the main diagonal,\n",
    "    and `u` is a 1D array representing the (column) vector $u$.\n",
    "    \n",
    "    `x` is also a 1D array representing the $x$ vector.\n",
    "    \n",
    "    Use the Sherman-Morrison formula.\n",
    "    \n",
    "    Parameters\n",
    "    ----------\n",
    "    d : ndarray of floats, shape (n,)\n",
    "        $D$ is the diagonal matrix with `d` on the main diagonal\n",
    "    u : ndarray of floats, shape (n,)\n",
    "        a 1D array representing the vector $u$\n",
    "    x : ndarray of floats, shape (n,)\n",
    "        a 1D array representing the vector $x$\n",
    "    \n",
    "    Returns\n",
    "    -------\n",
    "    y : array-like of floats, shape (n,)\n",
    "        The result of the matrix-vector product of $D+(u u^T)^{-1} x$\n",
    "    \"\"\"\n",
    "    x_div = x / d\n",
    "    u_div = u / d\n",
    "    factor = u_div @ x\n",
    "    den = 1 + u @ u_div\n",
    "    res = x_div - u_div * factor / den\n",
    "    return res"
   ]
  },
  {
   "cell_type": "code",
   "execution_count": 12,
   "id": "84ad3dea",
   "metadata": {
    "deletable": false,
    "editable": false,
    "nbgrader": {
     "cell_type": "code",
     "checksum": "aec6ca423add41bf3daad91e90ff0ac4",
     "grade": true,
     "grade_id": "cell-59d9b1b7ecd28a9f",
     "locked": true,
     "points": 2,
     "schema_version": 3,
     "solution": false,
     "task": false
    }
   },
   "outputs": [],
   "source": [
    "# Test your matrix-vector product routine on small size matrices\n",
    "\n",
    "n = 5\n",
    "rndm = np.random.default_rng(1234)\n",
    "\n",
    "d, u = generate_d_u(n, rndm)\n",
    "A = np.diag(d) + u[:, None] @ u[None, :]\n",
    "\n",
    "for x in [np.arange(n), np.ones(n), rndm.uniform(size=n)]:\n",
    "    assert_allclose(SMproduct(d, u, x),\n",
    "                    np.linalg.solve(A, x), atol=1e-10)"
   ]
  },
  {
   "cell_type": "markdown",
   "id": "7126f461",
   "metadata": {
    "deletable": false,
    "editable": false,
    "nbgrader": {
     "cell_type": "markdown",
     "checksum": "ba96ffd9e1caa4fba134cdd159e373b9",
     "grade": false,
     "grade_id": "cell-4cfab62259e57b8b",
     "locked": true,
     "schema_version": 3,
     "solution": false,
     "task": false
    }
   },
   "source": [
    "## Compute the leading eigenvalue of $(D + u u^T)^{-1}$.\n",
    "\n",
    "Write a function which computes the leading eigenvalue and its corresponding eigenvector."
   ]
  },
  {
   "cell_type": "code",
   "execution_count": 23,
   "id": "de811d7c",
   "metadata": {
    "deletable": false,
    "nbgrader": {
     "cell_type": "code",
     "checksum": "7af1669e9319953bf4a5c988a0394e3e",
     "grade": false,
     "grade_id": "cell-fd3839d046b3752c",
     "locked": false,
     "schema_version": 3,
     "solution": true,
     "task": false
    }
   },
   "outputs": [],
   "source": [
    "def leading_eigv(d, u, x0, eps=1e-6, maxiter=1000):\n",
    "    \"\"\"Compute the leading eigenvalue of (D + u@u.T)^{-1}.\n",
    "    \n",
    "    Use the power iteration method to compute the eigenvalue.\n",
    "    \n",
    "    Use the B-N-S formula to compute the corresponding eigenvector.\n",
    "    \n",
    "    Parameters\n",
    "    ----------\n",
    "    d : array, shape (n,)\n",
    "        The diagonal elements\n",
    "    u : array, shape (n,)\n",
    "        The outer product vector\n",
    "    x0 : array, shape (n,)\n",
    "        The initial approximation\n",
    "    eps : float\n",
    "        The target accuracy.\n",
    "        Iterations stop when |true_lambda - current estimate| < eps.\n",
    "    maxiter : int\n",
    "        The maximum allowed number of iterations.\n",
    "    \n",
    "    Returns\n",
    "    -------\n",
    "    lmbda : float\n",
    "        The estimate for the leading eigenvalue\n",
    "    vec : array, shape (n,)\n",
    "        The estimate for the corresponding eigenvector\n",
    "        \n",
    "    Raises\n",
    "    ------\n",
    "    ValueError\n",
    "        if the maximum number of iterations `maxiter` is reached\n",
    "        without reaching the target tolerance.\n",
    "    \n",
    "    \"\"\"\n",
    "    xk = x0\n",
    "    ykk = x0\n",
    "    lam = 0\n",
    "    lam_new = 0\n",
    "    for i in range(maxiter):\n",
    "        ykk = SMproduct(d, u, xk)\n",
    "        lam = lam_new\n",
    "        lam_new = xk @ ykk\n",
    "        xk = ykk / np.linalg.norm(ykk)\n",
    "        if np.linalg.norm(SMproduct(d, u, xk) - lam_new*xk) < eps:\n",
    "            break\n",
    "    else:\n",
    "        raise ValueError(\"target tolerance is not reached in %s iterations\" % maxiter)\n",
    "    la = lam_new\n",
    "    x = BNS(d, u, 1/la)\n",
    "    return la, x"
   ]
  },
  {
   "cell_type": "code",
   "execution_count": 24,
   "id": "92cd80ad",
   "metadata": {},
   "outputs": [
    {
     "name": "stdout",
     "output_type": "stream",
     "text": [
      "[-1.15502282  0.09895118  0.47297607  0.96089908  0.83971397] 10.105993793184826\n",
      "9.987023267832838e-13\n"
     ]
    }
   ],
   "source": [
    "#my own test to experiment with code\n",
    "n = 5\n",
    "rndm = np.random.default_rng(1234)\n",
    "d, u = generate_d_u(n, rndm)\n",
    "\n",
    "la1, x = leading_eigv(d, u, np.ones(n))\n",
    "A = np.diag(d) + u[:, None] @ u[None, :]\n",
    "print(np.linalg.eig(A)[0], la1)\n",
    "print(np.linalg.norm(SMproduct(d, u, x) - la1*x))"
   ]
  },
  {
   "cell_type": "code",
   "execution_count": 25,
   "id": "44bfd2f3",
   "metadata": {
    "deletable": false,
    "editable": false,
    "nbgrader": {
     "cell_type": "code",
     "checksum": "537a0d66e184de4b443de19d2dd98fa2",
     "grade": true,
     "grade_id": "cell-9147b698f61621a7",
     "locked": true,
     "points": 2,
     "schema_version": 3,
     "solution": false,
     "task": false
    }
   },
   "outputs": [],
   "source": [
    "# test on a small example (useful for debugging)\n",
    "n = 5\n",
    "rndm = np.random.default_rng(1234)\n",
    "d, u = generate_d_u(n, rndm)\n",
    "\n",
    "la1, x = leading_eigv(d, u, np.ones(n))\n",
    "assert np.linalg.norm(SMproduct(d, u, x) - la1*x) < 1e-9\n",
    "\n",
    "e = eigvals(np.diag(d) + u[:, None] @ u[None, :])\n",
    "e = e[np.argsort(abs(e))]\n",
    "assert_allclose(e[0], 1./la1, atol=1e-14, rtol=0)"
   ]
  },
  {
   "cell_type": "code",
   "execution_count": 26,
   "id": "55023528",
   "metadata": {
    "deletable": false,
    "editable": false,
    "nbgrader": {
     "cell_type": "code",
     "checksum": "6748f8d53e33a69561165812b2c8f782",
     "grade": true,
     "grade_id": "cell-47d20ae241d1646a",
     "locked": true,
     "points": 1,
     "schema_version": 3,
     "solution": false,
     "task": false
    }
   },
   "outputs": [],
   "source": [
    "# test interface\n",
    "import pytest\n",
    "with pytest.raises(ValueError):\n",
    "    la1, x = leading_eigv(d, u, np.ones(n), eps=1e-20, maxiter=1)"
   ]
  },
  {
   "cell_type": "code",
   "execution_count": 27,
   "id": "455a36be",
   "metadata": {
    "deletable": false,
    "editable": false,
    "nbgrader": {
     "cell_type": "code",
     "checksum": "c932f2e406ddfdf52043adf6865fa68d",
     "grade": true,
     "grade_id": "cell-21df48a03479fdf2",
     "locked": true,
     "points": 10,
     "schema_version": 3,
     "solution": false,
     "task": false
    }
   },
   "outputs": [],
   "source": [
    "# test on a slightly larger example\n",
    "n = 100\n",
    "rndm = np.random.default_rng(1234)\n",
    "d, u = generate_d_u(n, rndm)\n",
    "\n",
    "la1, x = leading_eigv(d, u, np.ones(n))\n",
    "assert np.linalg.norm(SMproduct(d, u, x) - la1*x) < 1e-9\n",
    "\n",
    "# and a yet larger one\n",
    "n = int(1e5)\n",
    "rndm = np.random.default_rng(1234)\n",
    "d, u = generate_d_u(n, rndm)\n",
    "\n",
    "la1, x = leading_eigv(d, u, np.ones(n))\n",
    "assert np.linalg.norm(SMproduct(d, u, x) - la1*x) < 1e-9"
   ]
  },
  {
   "cell_type": "code",
   "execution_count": null,
   "id": "8da02cc9",
   "metadata": {},
   "outputs": [],
   "source": []
  }
 ],
 "metadata": {
  "kernelspec": {
   "display_name": "Python 3 (ipykernel)",
   "language": "python",
   "name": "python3"
  },
  "language_info": {
   "codemirror_mode": {
    "name": "ipython",
    "version": 3
   },
   "file_extension": ".py",
   "mimetype": "text/x-python",
   "name": "python",
   "nbconvert_exporter": "python",
   "pygments_lexer": "ipython3",
   "version": "3.9.10"
  }
 },
 "nbformat": 4,
 "nbformat_minor": 5
}
