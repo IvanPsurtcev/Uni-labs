{
  "cells": [
    {
      "cell_type": "code",
      "execution_count": null,
      "metadata": {
        "id": "xWOoNtqEj-og"
      },
      "outputs": [],
      "source": [
        "import numpy as np\n",
        "import matplotlib.pyplot as plt"
      ]
    },
    {
      "cell_type": "code",
      "execution_count": null,
      "metadata": {
        "id": "WhuL4JNl22s8"
      },
      "outputs": [],
      "source": [
        "with np.load( 'data_noisy_image.npz') as data:\n",
        "  A, C = data['A'], data['C']"
      ]
    },
    {
      "cell_type": "code",
      "execution_count": null,
      "metadata": {
        "id": "1FnmZK7-3Qgg"
      },
      "outputs": [],
      "source": [
        "def mat2vec (A):\n",
        "  h, w = A.shape\n",
        "  a = np.zeros(h*w, dtype = A.dtype )\n",
        "  A = np.flipud ( A )\n",
        "  for i , row in enumerate ( A ):\n",
        "    a[ i * w : i * w + w ] = row\n",
        "  return a"
      ]
    },
    {
      "cell_type": "code",
      "execution_count": null,
      "metadata": {
        "id": "DxHSMKSo3uR7"
      },
      "outputs": [],
      "source": [
        "def vec2mat (a , shape ):\n",
        "  h , w = shape\n",
        "  A = np . zeros ( shape , dtype = a . dtype )\n",
        "  for i in range ( h ):\n",
        "    A [i , :] = a [ i * w : i * w + w ]\n",
        "  return np . flipud ( A )"
      ]
    },
    {
      "cell_type": "code",
      "execution_count": null,
      "metadata": {
        "colab": {
          "base_uri": "https://localhost:8080/"
        },
        "id": "JS3EG37y_Sb0",
        "outputId": "4887b1ab-f573-4ea7-9904-55f95fd38005"
      },
      "outputs": [
        {
          "data": {
            "text/plain": [
              "(25, 60)"
            ]
          },
          "execution_count": 44,
          "metadata": {},
          "output_type": "execute_result"
        }
      ],
      "source": [
        "np.shape(A)"
      ]
    },
    {
      "cell_type": "code",
      "execution_count": null,
      "metadata": {
        "colab": {
          "base_uri": "https://localhost:8080/"
        },
        "id": "uU7C61qu5C89",
        "outputId": "144a2d9b-69c8-40f8-cefd-1b919bb68526"
      },
      "outputs": [
        {
          "name": "stdout",
          "output_type": "stream",
          "text": [
            "[17.50407834 27.76836369 37.71668192 ... 49.90197451 38.16897991\n",
            " 20.99752653]\n"
          ]
        }
      ],
      "source": [
        "a = mat2vec(A)\n",
        "print(a)"
      ]
    },
    {
      "cell_type": "code",
      "execution_count": null,
      "metadata": {
        "colab": {
          "base_uri": "https://localhost:8080/"
        },
        "id": "qQtpljqX_a-v",
        "outputId": "549f1a5d-14b8-45df-a4d1-fb7ecfedaca5"
      },
      "outputs": [
        {
          "data": {
            "text/plain": [
              "(1500,)"
            ]
          },
          "execution_count": 45,
          "metadata": {},
          "output_type": "execute_result"
        }
      ],
      "source": [
        "np.shape(a)"
      ]
    },
    {
      "cell_type": "code",
      "execution_count": null,
      "metadata": {
        "colab": {
          "base_uri": "https://localhost:8080/"
        },
        "id": "dRQN8-JF5P1V",
        "outputId": "2d5ee855-9d93-48db-ab68-2a7c3babd98f"
      },
      "outputs": [
        {
          "name": "stdout",
          "output_type": "stream",
          "text": [
            "[ 1.24042749  0.59239894 -0.17922548 ...  0.53703675 -0.04390592\n",
            " -1.33821802]\n"
          ]
        }
      ],
      "source": [
        "dim = np.shape(a)\n",
        "e = np.random.normal(loc=0.0, scale=1.0, size=dim)\n",
        "print(e)"
      ]
    },
    {
      "cell_type": "code",
      "execution_count": null,
      "metadata": {
        "colab": {
          "base_uri": "https://localhost:8080/",
          "height": 189
        },
        "id": "1w_7NMwj-OcF",
        "outputId": "35fda538-c6ae-4c2a-d989-2f3cbef49d62"
      },
      "outputs": [
        {
          "data": {
            "image/png": "[encoded data removed]",
            "text/plain": [
              "<Figure size 432x288 with 1 Axes>"
            ]
          },
          "metadata": {
            "needs_background": "light"
          },
          "output_type": "display_data"
        }
      ],
      "source": [
        "plt.imshow(A);"
      ]
    },
    {
      "cell_type": "code",
      "execution_count": null,
      "metadata": {
        "colab": {
          "base_uri": "https://localhost:8080/"
        },
        "id": "Niza5fAK_LUc",
        "outputId": "901aef2d-b744-4d97-84ca-e61744232dac"
      },
      "outputs": [
        {
          "data": {
            "text/plain": [
              "(1500, 816)"
            ]
          },
          "execution_count": 43,
          "metadata": {},
          "output_type": "execute_result"
        }
      ],
      "source": [
        "m = C.shape\n",
        "m"
      ]
    },
    {
      "cell_type": "code",
      "execution_count": null,
      "metadata": {
        "id": "FPClPC1CALDm"
      },
      "outputs": [],
      "source": [
        "C_new = np.eye(C.shape[0])\n",
        "C_new = 2 * C_new"
      ]
    },
    {
      "cell_type": "code",
      "execution_count": null,
      "metadata": {
        "id": "l5T5mWzKCW8v"
      },
      "outputs": [],
      "source": [
        "a0 = np.linalg.inv(C_new) @ a.T\n",
        "a0 -= np.linalg.inv(C_new) @ e.T"
      ]
    },
    {
      "cell_type": "code",
      "execution_count": null,
      "metadata": {
        "colab": {
          "base_uri": "https://localhost:8080/"
        },
        "id": "Bw5CuECyEA5B",
        "outputId": "c68f8a06-096b-4e11-bf18-187f10c4c349"
      },
      "outputs": [
        {
          "data": {
            "text/plain": [
              "array([[ 1.97068469,  3.58568141, 14.51976429, ..., 24.68246888,\n",
              "        19.10644292, 11.16787228],\n",
              "       [11.8517601 , 28.14871408, 37.99392917, ..., 31.10876768,\n",
              "        22.09371748,  7.31925881],\n",
              "       [21.86716273, 23.74853197, 48.14221957, ..., 49.23875443,\n",
              "        30.48144438, 16.16859815],\n",
              "       ...,\n",
              "       [10.32383611, 34.35872524, 49.14512919, ..., 47.56715403,\n",
              "        24.53596333, 17.24711197],\n",
              "       [ 9.47519269, 25.94989173, 39.05488315, ..., 26.10904811,\n",
              "        17.8175338 , 15.21330901],\n",
              "       [ 8.13182543, 13.58798238, 18.9479537 , ..., 11.18857656,\n",
              "        16.76966145, -1.33758939]])"
            ]
          },
          "execution_count": 65,
          "metadata": {},
          "output_type": "execute_result"
        }
      ],
      "source": [
        "A0 = vec2mat(a0, A.shape)\n",
        "A0"
      ]
    }
  ],
  "metadata": {
    "colab": {
      "name": "Psurtcev_II.23.ipynb",
      "provenance": []
    },
    "kernelspec": {
      "display_name": "Python 3",
      "name": "python3"
    },
    "language_info": {
      "name": "python"
    }
  },
  "nbformat": 4,
  "nbformat_minor": 0
}
