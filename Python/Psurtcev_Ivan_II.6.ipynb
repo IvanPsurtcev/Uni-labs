{
 "cells": [
  {
   "cell_type": "code",
   "execution_count": 1,
   "metadata": {},
   "outputs": [],
   "source": [
    "%config Completer.use_jedi = False"
   ]
  },
  {
   "cell_type": "code",
   "execution_count": 2,
   "metadata": {
    "id": "uHcym8hnBurV"
   },
   "outputs": [],
   "source": [
    "import numpy as np\n",
    "from time import time"
   ]
  },
  {
   "cell_type": "markdown",
   "metadata": {},
   "source": [
    "### Формула `Woodbery`"
   ]
  },
  {
   "cell_type": "markdown",
   "metadata": {},
   "source": [
    "$$(A + UCV)^{-1} = A^{-1} - A^{-1} U (C^{-1} + V A^{-1} U) V A^{-1}$$"
   ]
  },
  {
   "cell_type": "markdown",
   "metadata": {},
   "source": [
    "### Функции для вычислений"
   ]
  },
  {
   "cell_type": "code",
   "execution_count": 3,
   "metadata": {},
   "outputs": [],
   "source": [
    "def woodbury(A, U, V):\n",
    "    k = U.shape[1]\n",
    "    \n",
    "    A_inv = np.diag(1 / np.diag(A))\n",
    "    part_inv = np.linalg.inv(np.eye(k) + V @ A_inv @ U)\n",
    "    \n",
    "    answer = A_inv - A_inv @ U @ part_inv @ V @ A_inv\n",
    "    \n",
    "    return answer"
   ]
  },
  {
   "cell_type": "code",
   "execution_count": 4,
   "metadata": {},
   "outputs": [],
   "source": [
    "def direct_culc(A, U, V):\n",
    "    return np.linalg.inv(A + U @ V)"
   ]
  },
  {
   "cell_type": "markdown",
   "metadata": {},
   "source": [
    "### Проверка корректности функций"
   ]
  },
  {
   "cell_type": "code",
   "execution_count": 5,
   "metadata": {},
   "outputs": [],
   "source": [
    "p = 6\n",
    "k = 3\n",
    "\n",
    "A = np.diag(np.random.random(size=p))\n",
    "U = np.random.random(size=(p,k))\n",
    "V = np.random.random(size=(k,p))"
   ]
  },
  {
   "cell_type": "code",
   "execution_count": 6,
   "metadata": {
    "scrolled": true
   },
   "outputs": [
    {
     "data": {
      "text/plain": [
       "True"
      ]
     },
     "execution_count": 6,
     "metadata": {},
     "output_type": "execute_result"
    }
   ],
   "source": [
    "np.allclose(direct_culc(A, U, V), woodbury(A, U, V))"
   ]
  },
  {
   "cell_type": "markdown",
   "metadata": {},
   "source": [
    "### Проверка быстродействия"
   ]
  },
  {
   "cell_type": "code",
   "execution_count": 7,
   "metadata": {},
   "outputs": [],
   "source": [
    "p = 5000\n",
    "k = 100\n",
    "\n",
    "A = np.diag(np.random.random(size=p))\n",
    "U = np.random.random(size=(p,k))\n",
    "V = np.random.random(size=(k,p))"
   ]
  },
  {
   "cell_type": "code",
   "execution_count": 8,
   "metadata": {
    "scrolled": true
   },
   "outputs": [
    {
     "name": "stdout",
     "output_type": "stream",
     "text": [
      "  Время на прямое вычисление: 8.227\n",
      "  Время на вычисление с woodbury: 6.176\n",
      "  Ответы двух методов совпадают\n"
     ]
    }
   ],
   "source": [
    "start = time()\n",
    "answer_1 = direct_culc(A, U, V)\n",
    "time_1 = time() - start\n",
    "\n",
    "print(f'  Время на прямое вычисление: {time_1:.3f}')\n",
    "\n",
    "start = time()\n",
    "answer_2 = woodbury(A, U, V)\n",
    "time_2 = time() - start\n",
    "\n",
    "print(f'  Время на вычисление с woodbury: {time_2:.3f}')\n",
    "\n",
    "if np.allclose(answer_1, answer_2):\n",
    "    print('  Ответы двух методов совпадают')\n",
    "else:\n",
    "    print('  Ответы не совпали!')"
   ]
  },
  {
   "cell_type": "markdown",
   "metadata": {},
   "source": [
    "Вычисление через формулу `woodbury` оказывается быстрее, так как в этой формуле нам приходится обращать матрицу размера $k \\times k$, а в прямом вычислении образается матрица $p \\times p$, но так как $k = 100$, а $p = 5000$, то вычислительно гораздо быстрее обратить первую матрицу, чем вторую. Обратная для $A$ вообще вычисляется элементарно, так как $A$ - диагональная. Поэтому и получается, что для данных в условии размерностей использовать `woodbury` гораздо эффективнее, чем прямо вычислеть $(A + UCV)^{-1}$."
   ]
  },
  {
   "cell_type": "code",
   "execution_count": null,
   "metadata": {},
   "outputs": [],
   "source": []
  }
 ],
 "metadata": {
  "colab": {
   "name": "HW_2_task_5_Woodbury.ipynb",
   "provenance": []
  },
  "kernelspec": {
   "display_name": "Python 3",
   "language": "python",
   "name": "python3"
  },
  "language_info": {
   "codemirror_mode": {
    "name": "ipython",
    "version": 3
   },
   "file_extension": ".py",
   "mimetype": "text/x-python",
   "name": "python",
   "nbconvert_exporter": "python",
   "pygments_lexer": "ipython3",
   "version": "3.8.3"
  }
 },
 "nbformat": 4,
 "nbformat_minor": 1
}
