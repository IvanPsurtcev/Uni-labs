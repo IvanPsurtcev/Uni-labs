{
  "cells": [
    {
      "cell_type": "code",
      "execution_count": null,
      "metadata": {
        "id": "LFPkxtVPArKE"
      },
      "outputs": [],
      "source": [
        "import numpy as np\n",
        "import scipy as sp\n",
        "import matplotlib.pyplot as plt\n",
        "from numpy import linalg\n",
        "from numpy.testing import assert_allclose"
      ]
    },
    {
      "cell_type": "code",
      "execution_count": null,
      "metadata": {
        "id": "hXBY-T_5ArKX"
      },
      "outputs": [],
      "source": [
        "n = 10\n",
        "a = np.random.normal(0, 1, (n, n))\n",
        "A = a @ a.T"
      ]
    },
    {
      "cell_type": "code",
      "execution_count": null,
      "metadata": {
        "id": "W0mYvywiArKa",
        "outputId": "ddadbacc-b11f-406d-e328-2094dc453cf9"
      },
      "outputs": [
        {
          "name": "stdout",
          "output_type": "stream",
          "text": [
            "[ 0.09767498  0.2550168   2.75524584  4.51244042  7.26584606 10.3785495\n",
            " 11.65406699 17.37280494 21.83468225 34.25151107]\n"
          ]
        }
      ],
      "source": [
        "s = np.linalg.eigvalsh(A)\n",
        "print(s)"
      ]
    },
    {
      "cell_type": "code",
      "execution_count": null,
      "metadata": {
        "id": "fxlvdZa-ArKh"
      },
      "outputs": [],
      "source": [
        "Q, R = np.linalg.qr(A)\n",
        "def norm(v):\n",
        "    return np.sqrt(np.sum(v**2))"
      ]
    },
    {
      "cell_type": "code",
      "execution_count": null,
      "metadata": {
        "id": "DCuDDMMRArKj"
      },
      "outputs": [],
      "source": [
        "def tridiagonal(a):\n",
        "    b = np.array(a, dtype = float, copy = True)\n",
        "    n = b.shape[0]\n",
        "    for i in range(n-1):      \n",
        "        vec = b[i+1:, i]\n",
        "        \n",
        "        if vec.size > 1:\n",
        "            u = np.empty_like(vec, dtype = float)\n",
        "            if vec[0] > 0:\n",
        "                u[0] = (-1*(vec[1:]**2).sum()) / (vec[0] + norm(vec))\n",
        "            else:\n",
        "                u[0] = vec[0] - norm(vec)\n",
        "            u[1:] = vec[1:]\n",
        "            u = u / norm(u)       \n",
        "        else:\n",
        "            u = vec / norm(vec)\n",
        "                \n",
        "        b[i+1: ,i:] -= 2 * u.reshape(-1,1) @ (u.reshape(1, -1) @ b[i+1:, i:])\n",
        "        b[:, i+1:] -= 2 * (b[:, i+1:] @ u.reshape(-1, 1)) @ u.reshape(1, -1)\n",
        "        \n",
        "    return b"
      ]
    },
    {
      "cell_type": "code",
      "execution_count": null,
      "metadata": {
        "id": "5_-yJVlgArKo",
        "outputId": "d8cecdf5-797d-444c-dd74-3f4ffa0fa2c8"
      },
      "outputs": [
        {
          "name": "stdout",
          "output_type": "stream",
          "text": [
            "4\n",
            "0.09767497864286723\n",
            "0.09828505683536629\n",
            "0.006246002824630356\n"
          ]
        }
      ],
      "source": [
        "H = tridiagonal(A)\n",
        "er = 1e-2\n",
        "it = 0\n",
        "min_t = np.linalg.eigvalsh(A)[0]\n",
        "min_c = -1\n",
        "while abs((min_t - min_c) / min_t) > er:\n",
        "    it += 1\n",
        "    Q, R = np.linalg.qr(H)\n",
        "    H = R @ Q\n",
        "    min_c = np.diagonal(H).min()\n",
        "print(it)\n",
        "print(min_t)\n",
        "print(min_c)\n",
        "print(abs((min_t - min_c) / min_t))"
      ]
    }
  ],
  "metadata": {
    "colab": {
      "name": "II.18.ipynb",
      "provenance": []
    },
    "kernelspec": {
      "display_name": "Python 3",
      "language": "python",
      "name": "python3"
    },
    "language_info": {
      "codemirror_mode": {
        "name": "ipython",
        "version": 3
      },
      "file_extension": ".py",
      "mimetype": "text/x-python",
      "name": "python",
      "nbconvert_exporter": "python",
      "pygments_lexer": "ipython3",
      "version": "3.7.6-final"
    },
    "orig_nbformat": 2
  },
  "nbformat": 4,
  "nbformat_minor": 0
}
