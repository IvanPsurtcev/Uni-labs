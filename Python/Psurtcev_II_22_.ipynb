{
  "cells": [
    {
      "cell_type": "markdown",
      "metadata": {
        "id": "1w-j0j5KBm0g"
      },
      "source": [
        "## Задача II.22\n"
      ]
    },
    {
      "cell_type": "code",
      "execution_count": null,
      "metadata": {
        "id": "gnm22e6Bg8xm",
        "outputId": "640c3413-e7ba-410d-a35a-8c3e88537a07"
      },
      "outputs": [
        {
          "data": {
            "image/png": "[encoded data removed]",
            "text/plain": [
              "<Figure size 432x288 with 1 Axes>"
            ]
          },
          "metadata": {
            "needs_background": "light"
          },
          "output_type": "display_data"
        }
      ],
      "source": [
        "N=1000\n",
        "k=1/2\n",
        "m=1000\n",
        "A=np.zeros([2*N-1,2*N-1])\n",
        "A[0,0]=2+k\n",
        "A[0,2:-1]=[k, 1]*(N-2)\n",
        "A[0,-1]=k\n",
        "for i in range(1,2*N-1,2):\n",
        "    A[i, i-1:i+2]=[-k, 2*k, -k]\n",
        "for i in range(2,2*N-2,2):\n",
        "    A[i, i-1:i+2]=[-1., 2., -1.]\n",
        "A[-1,:-3]=[k, 1]*(N-2)\n",
        "A[-1,-3]=k\n",
        "A[-1,-1]=2+k\n",
        "l, V = np.linalg.eig(A)\n",
        "plt.hist(l.real);"
      ]
    },
    {
      "cell_type": "code",
      "execution_count": null,
      "metadata": {
        "id": "Y3klyQOPg8xo",
        "outputId": "1bf8aabc-5837-451b-934b-01b794dbbbdf"
      },
      "outputs": [
        {
          "name": "stdout",
          "output_type": "stream",
          "text": [
            "(array([1662]),)\n",
            "2.9940840842230663 6.579729049081194e-06\n"
          ]
        }
      ],
      "source": [
        "print(np.where(l.real==np.amin(l.real)))\n",
        "print(l.real[1], np.amin(l.real))\n",
        "\n"
      ]
    },
    {
      "cell_type": "code",
      "execution_count": null,
      "metadata": {
        "id": "PkMmqw4Jg8xp",
        "outputId": "8dfcf399-0164-40ef-8733-b5cc3498d3ef"
      },
      "outputs": [
        {
          "data": {
            "text/plain": [
              "5.735734063344113e-05"
            ]
          },
          "execution_count": 18,
          "metadata": {},
          "output_type": "execute_result"
        }
      ],
      "source": [
        "np.sqrt(k/m*np.amin(l.real))"
      ]
    },
    {
      "cell_type": "code",
      "execution_count": null,
      "metadata": {
        "id": "0OXuo7dmg8xr",
        "outputId": "02d778a0-46dc-46f4-fe7a-12bc7c9d34ff"
      },
      "outputs": [
        {
          "data": {
            "image/png": "[encoded data removed]",
            "text/plain": [
              "<Figure size 432x288 with 1 Axes>"
            ]
          },
          "metadata": {
            "needs_background": "light"
          },
          "output_type": "display_data"
        }
      ],
      "source": [
        "plt.plot(V.T[1662].real);"
      ]
    },
    {
      "cell_type": "code",
      "execution_count": null,
      "metadata": {
        "id": "e0t1pVw5g8xs",
        "outputId": "d3e34faf-928d-488a-ab13-9785bea60b28"
      },
      "outputs": [
        {
          "name": "stdout",
          "output_type": "stream",
          "text": [
            "(array([37]),)\n",
            "3.0000000000000044 3.0000000000000044\n"
          ]
        },
        {
          "data": {
            "image/png": "[encoded data removed]",
            "text/plain": [
              "<Figure size 432x288 with 1 Axes>"
            ]
          },
          "metadata": {
            "needs_background": "light"
          },
          "output_type": "display_data"
        }
      ],
      "source": [
        "print(np.where(l.real==np.amax(l.real)))\n",
        "print(l.real[37], np.amax(l.real))\n",
        "np.sqrt(k/m*np.amax(l.real))\n",
        "plt.plot(V.T[37].real);\n"
      ]
    },
    {
      "cell_type": "code",
      "execution_count": null,
      "metadata": {
        "id": "2mny_V-Dg8xu",
        "outputId": "0206acbf-6161-45a9-e447-90b14ab96223"
      },
      "outputs": [
        {
          "data": {
            "text/plain": [
              "array([-0.0282871 ,  0.01414355, -0.0282871 ,  0.01414355, -0.0282871 ,\n",
              "        0.01414355, -0.0282871 ,  0.01414355, -0.0282871 ,  0.01414355])"
            ]
          },
          "execution_count": 24,
          "metadata": {},
          "output_type": "execute_result"
        }
      ],
      "source": [
        "V.T[37].real[:10]"
      ]
    },
    {
      "cell_type": "code",
      "execution_count": null,
      "metadata": {
        "id": "UY4SOBaag8xv"
      },
      "outputs": [],
      "source": []
    }
  ],
  "metadata": {
    "colab": {
      "name": "Psutcev_II_22_.ipynb",
      "provenance": []
    },
    "kernelspec": {
      "display_name": "Python 3",
      "language": "python",
      "name": "python3"
    },
    "language_info": {
      "codemirror_mode": {
        "name": "ipython",
        "version": 3
      },
      "file_extension": ".py",
      "mimetype": "text/x-python",
      "name": "python",
      "nbconvert_exporter": "python",
      "pygments_lexer": "ipython3",
      "version": "3.7.4"
    }
  },
  "nbformat": 4,
  "nbformat_minor": 0
}
