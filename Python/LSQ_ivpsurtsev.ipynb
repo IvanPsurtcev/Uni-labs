{
  "cells": [
    {
      "cell_type": "markdown",
      "metadata": {
        "id": "VnvAJ4YPJBrq"
      },
      "source": [
        "Before you turn this problem in, make sure everything runs as expected. First, **restart the kernel** (in the menubar, select Kernel$\\rightarrow$Restart) and then **run all cells** (in the menubar, select Cell$\\rightarrow$Run All).\n",
        "\n",
        "Make sure you fill in any place that says `YOUR CODE HERE` or \"YOUR ANSWER HERE\", as well as your name and collaborators below:"
      ]
    },
    {
      "cell_type": "code",
      "execution_count": 17,
      "metadata": {
        "id": "FN6TqGCzJBr0"
      },
      "outputs": [],
      "source": [
        "NAME = \"\"\n",
        "COLLABORATORS = \"\""
      ]
    },
    {
      "cell_type": "markdown",
      "metadata": {
        "id": "f1qrDpoTJBr3"
      },
      "source": [
        "---"
      ]
    },
    {
      "cell_type": "markdown",
      "metadata": {
        "deletable": false,
        "editable": false,
        "id": "zljJh13rJBr5",
        "nbgrader": {
          "cell_type": "markdown",
          "checksum": "0779adeade8e355d695208043da19d51",
          "grade": false,
          "grade_id": "cell-78f75b2228a73d9d",
          "locked": true,
          "schema_version": 3,
          "solution": false,
          "task": false
        }
      },
      "source": [
        "# Linear least squares"
      ]
    },
    {
      "cell_type": "markdown",
      "metadata": {
        "deletable": false,
        "editable": false,
        "id": "FBeKbAJ-JBr6",
        "nbgrader": {
          "cell_type": "markdown",
          "checksum": "ba21d0e42b06f6b66711fc1f38e1b650",
          "grade": false,
          "grade_id": "cell-a5dbb9bfecbe8783",
          "locked": true,
          "schema_version": 3,
          "solution": false,
          "task": false
        }
      },
      "source": [
        "Consider a function  $y=f(x)$  which is defined by a set of values $y_0, y_1, \\cdots, y_n$  at points $x_0, x_1, \\cdots, x_n$.\n",
        "\n",
        "The data contain noise, and our task is to somehow select the signal from this noise. For this, we will use linear regression. Specifically, we will construct a polynomial which best fits the data in the least-squares sense."
      ]
    },
    {
      "cell_type": "code",
      "execution_count": 18,
      "metadata": {
        "deletable": false,
        "editable": false,
        "id": "TJYuzGWMJBr8",
        "nbgrader": {
          "cell_type": "code",
          "checksum": "90edf950dece26a9e1e884f4df65c60b",
          "grade": false,
          "grade_id": "cell-f5815a6aff49a678",
          "locked": true,
          "schema_version": 3,
          "solution": false,
          "task": false
        }
      },
      "outputs": [],
      "source": [
        "import numpy as np\n",
        "\n",
        "x = np.asarray([-1, -0.7, -0.43, -0.14, 0.14, 0.43, 0.71, 1, 1.29, 1.57, 1.86, 2.14, 2.43, 2.71, 3])\n",
        "y = np.asarray([-2.25, -0.77, 0.21, 0.44, 0.64, 0.03, -0.22, -0.84, -1.2, -1.03, -0.37, 0.61, 2.67, 5.04, 8.90])\n",
        "\n",
        "rng = np.random.default_rng(123)\n",
        "x += 0.1 * rng.uniform(size=len(x))\n",
        "y += 4 * rng.uniform(size=len(x))"
      ]
    },
    {
      "cell_type": "markdown",
      "metadata": {
        "deletable": false,
        "editable": false,
        "id": "5qj9RI2LJBr9",
        "nbgrader": {
          "cell_type": "markdown",
          "checksum": "663f857ae1d499d4f38ce0e037b9ee9e",
          "grade": false,
          "grade_id": "cell-98a91662e46cdd3a",
          "locked": true,
          "schema_version": 3,
          "solution": false,
          "task": false
        }
      },
      "source": [
        "## I. Construct the best-fit polynomial\n",
        "\n",
        "$$\n",
        "P_m(x) = a_0 + a_1 x + \\cdots + a_m x^m\n",
        "$$\n",
        "\n",
        "for these data using the linear least squares approximation. To this end:\n",
        "\n",
        "\n",
        " - implement a function which constructs the design matrix, $A$, using  $1, x, \\cdots, x^m$ as the basis functions. \n",
        " \n",
        " - construct explicitly the normal system of equations of the linear least squares problem at a fixed value of $m$.\n",
        "\n",
        " - Solve the normal equations to find the coefficients of $P_m(x)$ for $m = 0, 1, 2, \\dots$. For the linear algebra subproblem, you can either use library functions (`numpy.linalg.solve`) or your LU factorization code from week 1."
      ]
    },
    {
      "cell_type": "code",
      "execution_count": 19,
      "metadata": {
        "deletable": false,
        "id": "GQqfvY3iJBsA",
        "nbgrader": {
          "cell_type": "code",
          "checksum": "d0ca7572ac30f14998ab1c7bfb5ae7e3",
          "grade": false,
          "grade_id": "cell-3c5b770ce3dc9362",
          "locked": false,
          "schema_version": 3,
          "solution": true,
          "task": false
        }
      },
      "outputs": [],
      "source": [
        "import numpy as np\n",
        "\n",
        "def design_matrix(x, m):\n",
        "    \"\"\"Construct the design matrix with monomials x**k for k=0..m-1\"\"\"\n",
        "    # YOUR CODE HERE\n",
        "    A = np.ones([len(x), m])\n",
        "    for i in range(m-1):\n",
        "        A[:, i+1] = np.multiply(A[:, i], x)\n",
        "    return A"
      ]
    },
    {
      "cell_type": "code",
      "execution_count": 20,
      "metadata": {
        "deletable": false,
        "editable": false,
        "id": "Roki3iihJBsC",
        "nbgrader": {
          "cell_type": "code",
          "checksum": "42b9fdd5f57a6548469d233cd074bc6b",
          "grade": true,
          "grade_id": "cell-4eb9827586286964",
          "locked": true,
          "points": 1,
          "schema_version": 3,
          "solution": false,
          "task": false
        }
      },
      "outputs": [],
      "source": [
        "assert design_matrix(x, 3).shape == (len(x), 3)\n",
        "assert design_matrix(x, 11).shape == (len(x), 11)"
      ]
    },
    {
      "cell_type": "code",
      "execution_count": 21,
      "metadata": {
        "deletable": false,
        "id": "dt49CnweJBsE",
        "nbgrader": {
          "cell_type": "code",
          "checksum": "0d404a7d524b00707c8b55267fc96212",
          "grade": false,
          "grade_id": "cell-ec39ee7d9ada0eb5",
          "locked": false,
          "schema_version": 3,
          "solution": true,
          "task": false
        }
      },
      "outputs": [],
      "source": [
        "def lsq_poly(x, y, m):\n",
        "    \"\"\"Construct the LSQ polynomial of degree `m-1`.\n",
        "    \n",
        "    Construct and solve the normal equations for the LSQ problem.\n",
        "    \n",
        "    Parameters\n",
        "    ----------\n",
        "    x : array_like\n",
        "        Sample points\n",
        "    y : array_like\n",
        "        Measured values\n",
        "    m : int\n",
        "        The number of coefficients of the LSQ polynomial\n",
        "        (i.e. the degree of the polynomial is `m-1`)\n",
        "        \n",
        "    Returns\n",
        "    -------\n",
        "    p : callable \n",
        "        np.polynomial.Polynomial instance, representing the LSQ polynomial\n",
        "        \n",
        "    Examples\n",
        "    --------\n",
        "    >>> p = lsq_poly([1, 2, 3], [4, 5, 6], m=2)\n",
        "    >>> p(np.array([1.5, 2.5]))\n",
        "    array([4.5, 5.5])\n",
        "    \n",
        "    \"\"\"\n",
        "    x = np.asarray(x, dtype=float)\n",
        "    y = np.asarray(y, dtype=float)\n",
        "    if x.shape[0] != y.shape[0]:\n",
        "        raise ValueError(\"Expect paired data.\")\n",
        "    if x.shape[0] <= m:\n",
        "        raise ValueError(\"Cannot fit a degree-%s polynomial through %s points\" % (m, x.shape[0]))\n",
        "    \n",
        "    # YOUR CODE HERE\n",
        "    A = design_matrix(x,m)\n",
        "    AT = A.T\n",
        "    AAT = AT@A\n",
        "    b = AT@y\n",
        "    c = np.linalg.solve(AAT,b)\n",
        "    p =np.polynomial.Polynomial(c)\n",
        "    return p"
      ]
    },
    {
      "cell_type": "code",
      "execution_count": 22,
      "metadata": {
        "deletable": false,
        "editable": false,
        "id": "4c66w5Z8JBsG",
        "nbgrader": {
          "cell_type": "code",
          "checksum": "e66a1bc43cbdb765cc3459fcfd2210dd",
          "grade": true,
          "grade_id": "cell-c690d81357c56b85",
          "locked": true,
          "points": 3,
          "schema_version": 3,
          "solution": false,
          "task": false
        }
      },
      "outputs": [],
      "source": [
        "import pytest\n",
        "with pytest.raises(ValueError):\n",
        "    lsq_poly([1, 2, 3], [1, 2], m=1)\n",
        "\n",
        "with pytest.raises(ValueError):\n",
        "    lsq_poly([1, 2, 3], [1, 2, 3], m=3)\n",
        "    \n",
        "# test that lsq_poly returns a callable object\n",
        "# which support vectorized evaluation\n",
        "p = lsq_poly(x, y, m=3)\n",
        "assert len(p(x)) == len(x)"
      ]
    },
    {
      "cell_type": "markdown",
      "metadata": {
        "deletable": false,
        "editable": false,
        "id": "ZK_FZhUtJBsH",
        "nbgrader": {
          "cell_type": "markdown",
          "checksum": "79aa818e5e7178abaf52abefe299bd18",
          "grade": false,
          "grade_id": "cell-c65dcec5ea66dc4f",
          "locked": true,
          "schema_version": 3,
          "solution": false,
          "task": false
        }
      },
      "source": [
        "Compute the condition number of the design matrix $A$ and the matrix of the left-hand side of the normal equations for values of $m$ from $m=1$ to $m=10$ and print them. Discuss the results."
      ]
    },
    {
      "cell_type": "code",
      "execution_count": 23,
      "metadata": {
        "colab": {
          "base_uri": "https://localhost:8080/"
        },
        "deletable": false,
        "id": "sX2O01JJJBsI",
        "nbgrader": {
          "cell_type": "code",
          "checksum": "b556951d4736d703e6e1b4e129e14399",
          "grade": false,
          "grade_id": "cell-ede76d4a7cff87d0",
          "locked": false,
          "schema_version": 3,
          "solution": true,
          "task": false
        },
        "outputId": "8aba9d53-9f44-47cf-ae68-072060660ffd"
      },
      "outputs": [
        {
          "name": "stdout",
          "output_type": "stream",
          "text": [
            "1.0 1.0\n",
            "2.5436796556599037 6.470306190618082\n",
            "7.974123103608089 63.58663927149611\n",
            "33.65632525997137 1132.7482300049778\n",
            "149.2193864468277 22266.42529156567\n",
            "709.1637406918859 502913.21111292107\n",
            "3627.847793765841 13161279.615201093\n",
            "18346.198895484937 336583013.8402629\n",
            "102424.59756752677 10490798120.374338\n"
          ]
        }
      ],
      "source": [
        "for m in range(1, 10):\n",
        "# YOUR CODE HERE\n",
        "  A = design_matrix(x,m)\n",
        "  print(np.linalg.cond(A),  np.linalg.cond(A.T @ A))\n"
      ]
    },
    {
      "cell_type": "code",
      "execution_count": 24,
      "metadata": {
        "deletable": false,
        "editable": false,
        "id": "-_4kvMLeJBsJ",
        "nbgrader": {
          "cell_type": "code",
          "checksum": "70f97b7e865ead5672ca93641c6a7cf0",
          "grade": true,
          "grade_id": "cell-a57fd1f730a5ca62",
          "locked": true,
          "points": 1,
          "schema_version": 3,
          "solution": false,
          "task": false
        }
      },
      "outputs": [],
      "source": [
        "# This cell is a test: keep it intact\n"
      ]
    },
    {
      "cell_type": "markdown",
      "metadata": {
        "deletable": false,
        "editable": false,
        "id": "7Qwyv9XHJBsJ",
        "nbgrader": {
          "cell_type": "markdown",
          "checksum": "6013f54863bf532e5a29eb0f63d9e861",
          "grade": false,
          "grade_id": "cell-f6f0f84795c73024",
          "locked": true,
          "schema_version": 3,
          "solution": false,
          "task": false
        }
      },
      "source": [
        "## II. Find the optimal degree of the the best-fit polynomial.\n",
        "\n",
        "It's clear that simply increasing the degree of the best-fit polynomial makes little sense: at too-high degree, polynomials start to overfit. Let's set out to construct an \"optimal\" polynomial, which both fits the data well, and has as low degree as realistic. \n",
        "\n",
        "To find an optimal value of $m$, consider the following procedure: take $m = 1, 2, \\dots$; for each value of $m$ compute the residual\n",
        "\n",
        "$$\n",
        "\\sigma_m^2 = \\frac{1}{n - m} \\sum_{k=0}^n \\left( P_m(x_k) - y_k \\right)^2\n",
        "$$\n",
        "\n",
        "and pick the value of $m$ such that $\\sigma_m$ stops decreasing---i.e. it stabilizes or starts growing.\n"
      ]
    },
    {
      "cell_type": "code",
      "execution_count": 25,
      "metadata": {
        "deletable": false,
        "id": "7eFHa58yJBsK",
        "nbgrader": {
          "cell_type": "code",
          "checksum": "b85853941544ff0159efbe6a8b8a9e0b",
          "grade": false,
          "grade_id": "cell-5d7424589f59ac28",
          "locked": false,
          "schema_version": 3,
          "solution": true,
          "task": false
        }
      },
      "outputs": [],
      "source": [
        "def sigma(x, y, m):\n",
        "    r\"\"\"Compute $\\sigma_m$.\"\"\"\n",
        "    # YOUR CODE HERE\n",
        "    n = len(x)\n",
        "    p = lsq_poly(x, y, m)\n",
        "    s = 1/(n-m)*np.linalg.norm(p(x)-y)**2\n",
        "    return s"
      ]
    },
    {
      "cell_type": "code",
      "execution_count": 26,
      "metadata": {
        "colab": {
          "base_uri": "https://localhost:8080/"
        },
        "id": "WnIoiaSfJBsK",
        "outputId": "7e8b09aa-d662-42cb-f235-3839331d36ee"
      },
      "outputs": [
        {
          "name": "stdout",
          "output_type": "stream",
          "text": [
            "1 11.457382047310071\n",
            "2 8.520081963394485\n",
            "3 4.005564058238966\n",
            "4 1.135640688012182\n",
            "5 1.1272670188279166\n",
            "6 1.1208555131773148\n",
            "7 1.0050279843985301\n",
            "8 1.1003064743050366\n",
            "9 1.265951505167595\n",
            "10 0.7701191223036336\n",
            "11 0.15965009489522347\n",
            "12 0.17430674525115258\n",
            "13 0.019731776318621306\n",
            "14 0.02021155936601248\n"
          ]
        }
      ],
      "source": [
        "for m in range(1, 15):\n",
        "    print(m, sigma(x, y, m))"
      ]
    },
    {
      "cell_type": "markdown",
      "metadata": {
        "deletable": false,
        "editable": false,
        "id": "50xBy3bWJBsL",
        "nbgrader": {
          "cell_type": "markdown",
          "checksum": "6f38338629d45c35cf98c63d7a3b3ebd",
          "grade": false,
          "grade_id": "cell-57e0268e519fef92",
          "locked": true,
          "schema_version": 3,
          "solution": false,
          "task": false
        }
      },
      "source": [
        "Plot your polynomials, $P_m(x)$, and the data on the same plot. Visually compare $P_m(x)$ for varying $m$. Does your visual comparison agree with the expected optimal value of $m$?"
      ]
    },
    {
      "cell_type": "code",
      "execution_count": 27,
      "metadata": {
        "colab": {
          "base_uri": "https://localhost:8080/",
          "height": 374
        },
        "id": "jCXZ1rlzJBsL",
        "outputId": "061fea08-b4e8-48fa-cc5c-94e9542f8be5"
      },
      "outputs": [
        {
          "data": {
            "image/png": "[encoded data removed]",
            "text/plain": [
              "<Figure size 1008x432 with 2 Axes>"
            ]
          },
          "metadata": {
            "needs_background": "light"
          },
          "output_type": "display_data"
        }
      ],
      "source": [
        "import matplotlib.pyplot as plt\n",
        "fig, (ax1, ax2) = plt.subplots(1, 2, figsize=(14, 6))\n",
        "\n",
        "m_vals1 = range(1, 7)\n",
        "m_vals2 = range(7, 13)\n",
        "\n",
        "for m_vals, ax in zip([m_vals1, m_vals2],\n",
        "                      [ax1, ax2]):\n",
        "    for m in m_vals:\n",
        "        p = lsq_poly(x, y, m)\n",
        "        xx = np.linspace(-1, 3.2, 151)\n",
        "        ax.plot(xx, p(xx), '-', label='m = %s' % m)\n",
        "    ax.plot(x, y, 'o', ms=8, color='k')\n",
        "    ax.legend(loc='best')\n",
        "    ax.grid(True)"
      ]
    },
    {
      "cell_type": "markdown",
      "metadata": {
        "deletable": false,
        "editable": false,
        "id": "nvlJJm1qJBsM",
        "nbgrader": {
          "cell_type": "markdown",
          "checksum": "7493d9cfa54b13dc944dd9b54199db38",
          "grade": false,
          "grade_id": "cell-ca71c0d238bdffd2",
          "locked": true,
          "schema_version": 3,
          "solution": false,
          "task": false
        }
      },
      "source": [
        "## III. Linear least squares using the QR factorization.\n",
        "For the optimal value of  $m$  from the previous part, solve the LLS problem using the QR factorization, without ever forming the normal equations explicitly. For the linear algebra subproblem, you can use standard library functions (look up `scipy.linalg.solve_triangular`, `scipy.linalg.qr` etc) or your code from previous weeks.\n",
        "\n",
        "Compare the results with the results of solving the normal system of equations."
      ]
    },
    {
      "cell_type": "code",
      "execution_count": 28,
      "metadata": {
        "deletable": false,
        "id": "mq_mABjmJBsM",
        "nbgrader": {
          "cell_type": "code",
          "checksum": "4949ed85aae5641d121712c57eb88a12",
          "grade": false,
          "grade_id": "cell-2f72bccc7b48651d",
          "locked": false,
          "schema_version": 3,
          "solution": true,
          "task": false
        }
      },
      "outputs": [],
      "source": [
        "def lsq_qr(x, y, m):\n",
        "    \"\"\"Solve the LSQ problem via the QR decomp of the design matrix.\n",
        "\n",
        "    Parameters\n",
        "    ----------\n",
        "    x : array_like\n",
        "        Sample points\n",
        "    y : array_like\n",
        "        Measured values\n",
        "    m : int\n",
        "        The degree of the LSQ polynomial\n",
        "        \n",
        "    Returns\n",
        "    -------\n",
        "    p : callable \n",
        "        np.polynomial.Polynomial instance, representing the LSQ polynomial\n",
        "    \n",
        "    \"\"\"\n",
        "    # YOUR CODE HERE\n",
        "    from scipy.linalg import solve_triangular, qr \n",
        "    A = design_matrix(x,m)\n",
        "    Q, R = qr(A.T@A)\n",
        "    c = solve_triangular(R, Q.T @ A.T @ y)\n",
        "    p =np.polynomial.Polynomial(c)\n",
        "    return p"
      ]
    },
    {
      "cell_type": "code",
      "execution_count": 29,
      "metadata": {
        "deletable": false,
        "editable": false,
        "id": "8ztkfIlxJBsN",
        "nbgrader": {
          "cell_type": "code",
          "checksum": "d784bcc56dabf7ca87787a7347781fbf",
          "grade": true,
          "grade_id": "cell-e84a63fbccd75fdf",
          "locked": true,
          "points": 2,
          "schema_version": 3,
          "solution": false,
          "task": false
        }
      },
      "outputs": [],
      "source": [
        "from numpy.testing import assert_allclose\n",
        "\n",
        "for m in range(1, 10):\n",
        "    assert_allclose(lsq_qr(x, y, m=m).coef,\n",
        "                    lsq_poly(x, y, m=m).coef,\n",
        "                    atol=1e-14)"
      ]
    },
    {
      "cell_type": "code",
      "execution_count": 30,
      "metadata": {
        "deletable": false,
        "editable": false,
        "id": "D8Hy9hhEJBsN",
        "nbgrader": {
          "cell_type": "code",
          "checksum": "41e34a05da07316ff15c569e78893537",
          "grade": true,
          "grade_id": "cell-0dec472419aee2c0",
          "locked": true,
          "points": 3,
          "schema_version": 3,
          "solution": false,
          "task": false
        }
      },
      "outputs": [],
      "source": [
        "# This cell spot-tests several polynomials to make sure that they are worse than your ``best'' polynomial.\n",
        "\n"
      ]
    },
    {
      "cell_type": "code",
      "execution_count": 30,
      "metadata": {
        "id": "a9qS7xGNJBsN"
      },
      "outputs": [],
      "source": []
    }
  ],
  "metadata": {
    "colab": {
      "name": "LSQ.ipynb",
      "provenance": []
    },
    "kernelspec": {
      "display_name": "Python 3",
      "language": "python",
      "name": "python3"
    },
    "language_info": {
      "codemirror_mode": {
        "name": "ipython",
        "version": 3
      },
      "file_extension": ".py",
      "mimetype": "text/x-python",
      "name": "python",
      "nbconvert_exporter": "python",
      "pygments_lexer": "ipython3",
      "version": "3.8.10"
    }
  },
  "nbformat": 4,
  "nbformat_minor": 0
}
