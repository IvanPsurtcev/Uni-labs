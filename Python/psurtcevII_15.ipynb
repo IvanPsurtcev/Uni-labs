{
  "cells": [
    {
      "cell_type": "markdown",
      "metadata": {
        "id": "qgS_rDOzdutd"
      },
      "source": [
        "### Возмущение корреляционной матрицы"
      ]
    },
    {
      "cell_type": "code",
      "execution_count": null,
      "metadata": {
        "id": "iK1bGR0Xdutk"
      },
      "outputs": [],
      "source": [
        "import numpy as np\n",
        "import scipy as sp\n",
        "import matplotlib as plt\n",
        "from numpy import linalg"
      ]
    },
    {
      "cell_type": "markdown",
      "metadata": {
        "id": "Z0USn1ptdutp"
      },
      "source": [
        "#### (а)"
      ]
    },
    {
      "cell_type": "code",
      "execution_count": null,
      "metadata": {
        "id": "JVF-wGkhdutq",
        "outputId": "79877c4d-976e-457c-d8f5-207971c2d32d"
      },
      "outputs": [
        {
          "name": "stdout",
          "output_type": "stream",
          "text": [
            "Собственные значения C: \n",
            " [2.35363603 0.03034736 0.6160166 ]\n"
          ]
        }
      ],
      "source": [
        "C = np.asarray([[1, 0.9, 0.7], [0.9, 1, 0.4], [0.7, 0.4, 1]])\n",
        "print('Собственные значения C: \\n', linalg.eig(C)[0])"
      ]
    },
    {
      "cell_type": "code",
      "execution_count": null,
      "metadata": {
        "id": "FXfu6Ceodutu",
        "outputId": "496d9e98-563c-4356-fd9c-aef225b4c466"
      },
      "outputs": [
        {
          "name": "stdout",
          "output_type": "stream",
          "text": [
            "Собственные значения C_0:\n",
            " [ 2.29672779 -0.00735244  0.71062465]\n",
            "Собственные вектора C_0:\n",
            " [[ 0.65991684  0.74767038 -0.0741536 ]\n",
            " [ 0.57099598 -0.5632171  -0.5972856 ]\n",
            " [ 0.48833733 -0.35181742  0.79859323]]\n"
          ]
        }
      ],
      "source": [
        "C_0 = np.asarray([[1, 0.9, 0.7], [0.9, 1, 0.3], [0.7, 0.3, 1]])\n",
        "eigvalues_C0, eigvector_C0 = linalg.eig(C_0)\n",
        "print('Собственные значения C_0:\\n', eigvalues_C0)\n",
        "print('Собственные вектора C_0:\\n', eigvector_C0)"
      ]
    },
    {
      "cell_type": "code",
      "execution_count": null,
      "metadata": {
        "id": "ej_avP6hdutw",
        "outputId": "eea99b16-bf52-4acf-c68d-868836fc34f2"
      },
      "outputs": [
        {
          "name": "stdout",
          "output_type": "stream",
          "text": [
            "Новая возмущенная корреляционная матрица C1:\n",
            " [[1.         0.89402441 0.69631907]\n",
            " [0.89402441 1.         0.30096904]\n",
            " [0.69631907 0.30096904 1.        ]]\n",
            "\n",
            " Собственные значения новой корреляционной C1:\n",
            " [ 2.29039373e+00 -3.29597460e-17  7.09606272e-01]\n"
          ]
        }
      ],
      "source": [
        "#Ввести новые с.з. по правилу\n",
        "eigvalues_C0[eigvalues_C0 < 0] = 0\n",
        "\n",
        "#Умножить с.в. si на модифицированные с.з. λ и использовать их в качестве столбцов новой матрицы\n",
        "B = eigvector_C0 * np.sqrt(eigvalues_C0)\n",
        "\n",
        "#Отнормировать строки матрицы B0 (вектора) на единичную длину, получив тем самым новую матрицу B.\n",
        "B = B / linalg.norm(B, axis=1).reshape(-1,1)\n",
        "\n",
        "#Построить новую возмущенную корреляционную матрицу по правилу C_1 = B B^T\n",
        "C_1 = B @ B.T\n",
        "print('Новая возмущенная корреляционная матрица C1:\\n', C_1)\n",
        "print('\\n', 'Собственные значения новой корреляционной C1:\\n', np.linalg.eig(C_1)[0])"
      ]
    },
    {
      "cell_type": "markdown",
      "metadata": {
        "id": "7ORFBQfdduty"
      },
      "source": [
        "#### На диагонали матрицы $C_1$ стоят 1, так как в процессе построения строки матрицы $B'$ нормируются, а затем происходит умножение полученной матрицы $B$ на $B^T$.\n",
        "#### \n",
        "#### Также, она явлется положительно определенной. Доказательство: \n",
        "#### SVD разложение матрицы $B$: $B=U\\Sigma{V^T} $\n",
        "#### $C_1 = BB^T = U\\Sigma V^T(U\\Sigma V^T)^T=U\\Sigma V^T V\\Sigma^{-1}U^T = U\\Sigma^2U^T$\n",
        "#### Матрица является положительно определенной, если ее собственные значения $\\lambda_i>0$\n",
        "#### Собственные значения $\\Sigma^2$ по определению больше 0. \n",
        "#### Умножение слева на $U$ и справа на $U^T$ будет переходом к новому базису, что не меняет собственные значения. \n",
        "#### Следовательно, матрица $C_1$ является положительно определенной."
      ]
    },
    {
      "cell_type": "markdown",
      "metadata": {
        "id": "WsQh8XBHdut0"
      },
      "source": [
        "### Сравним $C_1$ и $C_0$:"
      ]
    },
    {
      "cell_type": "code",
      "execution_count": null,
      "metadata": {
        "id": "8Lo_Pp6Tdut1",
        "outputId": "ce1bb1e3-57bc-4acd-bfc6-5ce6f779b525"
      },
      "outputs": [
        {
          "name": "stdout",
          "output_type": "stream",
          "text": [
            "C1:\n",
            " [[1.         0.89402441 0.69631907]\n",
            " [0.89402441 1.         0.30096904]\n",
            " [0.69631907 0.30096904 1.        ]]\n",
            "C0:\n",
            " [[1.  0.9 0.7]\n",
            " [0.9 1.  0.3]\n",
            " [0.7 0.3 1. ]]\n"
          ]
        }
      ],
      "source": [
        "print('C1:\\n', C_1)\n",
        "print('C0:\\n', C_0)"
      ]
    },
    {
      "cell_type": "markdown",
      "metadata": {
        "id": "_qHk7DRXdut3"
      },
      "source": [
        "#### Рандомный пример:"
      ]
    },
    {
      "cell_type": "code",
      "execution_count": null,
      "metadata": {
        "id": "KnmY9dvqdut5",
        "outputId": "d0fc278b-d488-453b-8321-a98d98841448"
      },
      "outputs": [
        {
          "name": "stdout",
          "output_type": "stream",
          "text": [
            "[[1.  0.7 0.5]\n",
            " [0.7 1.  0.2]\n",
            " [0.5 0.2 1. ]]\n"
          ]
        }
      ],
      "source": [
        "new_C = np.asarray([[1, 0.7, 0.5], [0.7, 1, 0.2], [0.5, 0.2, 1]])\n",
        "print(new_C)"
      ]
    },
    {
      "cell_type": "code",
      "execution_count": null,
      "metadata": {
        "id": "5VNM_wTBdut6",
        "outputId": "31bfe349-198a-4398-ab10-1d4c9352b4c6"
      },
      "outputs": [
        {
          "name": "stdout",
          "output_type": "stream",
          "text": [
            "Собственные значения new_C: \n",
            " [1.96204151 0.22596542 0.81199307]\n"
          ]
        }
      ],
      "source": [
        "print('Собственные значения new_C: \\n', linalg.eig(new_C)[0])"
      ]
    },
    {
      "cell_type": "code",
      "execution_count": null,
      "metadata": {
        "id": "9P7pAPdpdut9"
      },
      "outputs": [],
      "source": [
        "#### Поменяем 0.2 на 0.3"
      ]
    },
    {
      "cell_type": "code",
      "execution_count": null,
      "metadata": {
        "id": "ObDjBXM8dut-",
        "outputId": "1f6ac506-5939-4c75-dd0a-512c3caaeb4d"
      },
      "outputs": [
        {
          "name": "stdout",
          "output_type": "stream",
          "text": [
            "Собственные значения C_0:\n",
            " [1.98845532 0.2465098  0.76503488]\n",
            "Собственные вектора C_0:\n",
            " [[ 0.65636531  0.7516462  -0.17619041]\n",
            " [ 0.60259518 -0.5587496  -0.53230034]\n",
            " [ 0.45394231 -0.35046664  0.82801768]]\n"
          ]
        }
      ],
      "source": [
        "new_C0 = np.asarray([[1, 0.7, 0.5], [0.7, 1, 0.3], [0.5, 0.2, 1]])\n",
        "eigvalues_new_C0, eigvector_new_C0 = linalg.eig(new_C0)\n",
        "print('Собственные значения C_0:\\n', eigvalues_new_C0)\n",
        "print('Собственные вектора C_0:\\n', eigvector_new_C0)"
      ]
    },
    {
      "cell_type": "code",
      "execution_count": null,
      "metadata": {
        "id": "S48ERSFfduuA",
        "outputId": "f3fb6849-a9fd-4afc-ebec-7caa5969a2b5"
      },
      "outputs": [
        {
          "name": "stdout",
          "output_type": "stream",
          "text": [
            "Новая возмущенная корреляционная матрица new_C1:\n",
            " [[1.         0.74155427 0.41938612]\n",
            " [0.74155427 1.         0.25762911]\n",
            " [0.41938612 0.25762911 1.        ]]\n",
            "\n",
            " Собственные значения новой корреляционной C1:\n",
            " [1.97777627 0.23702175 0.78520198]\n"
          ]
        }
      ],
      "source": [
        "#Ввести новые с.з. по правилу\n",
        "eigvalues_new_C0[eigvalues_new_C0 < 0] = 0\n",
        "\n",
        "#Умножить с.в. si на модифицированные с.з. λ и использовать их в качестве столбцов новой матрицы\n",
        "newB = eigvector_new_C0 * np.sqrt(eigvalues_new_C0)\n",
        "\n",
        "#Отнормировать строки матрицы B0 (вектора) на единичную длину, получив тем самым новую матрицу B.\n",
        "newB = newB / linalg.norm(newB, axis=1).reshape(-1,1)\n",
        "\n",
        "#Построить новую возмущенную корреляционную матрицу по правилу C_1 = B B^T\n",
        "newC_1 = newB @ newB.T\n",
        "print('Новая возмущенная корреляционная матрица new_C1:\\n', newC_1)\n",
        "print('\\n', 'Собственные значения новой корреляционной C1:\\n', np.linalg.eig(newC_1)[0])"
      ]
    },
    {
      "cell_type": "code",
      "execution_count": null,
      "metadata": {
        "id": "XUY3IfC7duuC"
      },
      "outputs": [],
      "source": [
        "#### Работает. "
      ]
    }
  ],
  "metadata": {
    "colab": {
      "name": "task.II.15.ipynb",
      "provenance": []
    },
    "kernelspec": {
      "display_name": "Python 3.7.6 64-bit (conda)",
      "metadata": {
        "interpreter": {
          "hash": "b3ba2566441a7c06988d0923437866b63cedc61552a5af99d1f4fb67d367b25f"
        }
      },
      "name": "python3"
    },
    "language_info": {
      "codemirror_mode": {
        "name": "ipython",
        "version": 3
      },
      "file_extension": ".py",
      "mimetype": "text/x-python",
      "name": "python",
      "nbconvert_exporter": "python",
      "pygments_lexer": "ipython3",
      "version": "3.7.6-final"
    },
    "orig_nbformat": 2
  },
  "nbformat": 4,
  "nbformat_minor": 0
}
